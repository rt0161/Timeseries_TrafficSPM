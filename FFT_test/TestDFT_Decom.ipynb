{
 "cells": [
  {
   "cell_type": "code",
   "execution_count": 7,
   "metadata": {},
   "outputs": [],
   "source": [
    "from bokeh.io import show, output_file\n",
    "from bokeh.plotting import figure, output_file, show\n",
    "import numpy as np"
   ]
  },
  {
   "cell_type": "code",
   "execution_count": 8,
   "metadata": {},
   "outputs": [],
   "source": [
    "from bokeh.models import ColumnDataSource, Plot,DatetimeTickFormatter,FixedTicker"
   ]
  },
  {
   "cell_type": "code",
   "execution_count": 9,
   "metadata": {},
   "outputs": [],
   "source": [
    "Datapath_f1 = 'C:\\\\Users\\\\z0043H7B\\\\Tien\\\\Data\\\\dubuque\\\\wacker\\\\exploreSPM\\\\'"
   ]
  },
  {
   "cell_type": "code",
   "execution_count": 10,
   "metadata": {},
   "outputs": [],
   "source": [
    "import sys\n",
    "sys.path.insert(0, Datapath_f1)"
   ]
  },
  {
   "cell_type": "code",
   "execution_count": 11,
   "metadata": {},
   "outputs": [],
   "source": [
    "import Tools10\n",
    "import numpy as np\n",
    "import time\n",
    "import os\n",
    "import pandas as pd\n",
    "%load_ext autoreload\n",
    "%autoreload 10"
   ]
  },
  {
   "cell_type": "code",
   "execution_count": 12,
   "metadata": {},
   "outputs": [],
   "source": [
    "# test use a time series figure\n",
    "Datapath = '/Users/z0043H7B/Tien/Data/dubuque/Dubuque_080819/Wacker/'"
   ]
  },
  {
   "cell_type": "code",
   "execution_count": 13,
   "metadata": {},
   "outputs": [],
   "source": [
    "import os\n",
    "os.chdir(Datapath)"
   ]
  },
  {
   "cell_type": "code",
   "execution_count": 14,
   "metadata": {},
   "outputs": [],
   "source": [
    "newdf=pd.read_csv('Wacker_15minDetAct.csv',encoding='utf-8',parse_dates=True,index_col=0)"
   ]
  },
  {
   "cell_type": "code",
   "execution_count": 15,
   "metadata": {},
   "outputs": [
    {
     "name": "stdout",
     "output_type": "stream",
     "text": [
      "<class 'pandas.core.frame.DataFrame'>\n",
      "DatetimeIndex: 14208 entries, 2018-10-17 10:45:00 to 2019-03-14 10:30:00\n",
      "Data columns (total 16 columns):\n",
      "det33          14208 non-null int64\n",
      "det35          14208 non-null int64\n",
      "det37          14208 non-null int64\n",
      "det39          14208 non-null int64\n",
      "det41          14208 non-null int64\n",
      "det43          14208 non-null int64\n",
      "det45          14208 non-null int64\n",
      "det47          14208 non-null int64\n",
      "totalct        14208 non-null int64\n",
      "month          14208 non-null int64\n",
      "day            14208 non-null int64\n",
      "hour           14208 non-null int64\n",
      "minute         14208 non-null int64\n",
      "day-of-week    14208 non-null int64\n",
      "year           14208 non-null int64\n",
      "min_bin        14208 non-null int64\n",
      "dtypes: int64(16)\n",
      "memory usage: 1.8 MB\n"
     ]
    }
   ],
   "source": [
    "newdf.info()"
   ]
  },
  {
   "cell_type": "code",
   "execution_count": 16,
   "metadata": {},
   "outputs": [],
   "source": [
    "# dump out one time sereis:\n",
    "data1 = newdf.totalct.values"
   ]
  },
  {
   "cell_type": "code",
   "execution_count": 98,
   "metadata": {},
   "outputs": [],
   "source": [
    "# preplot the time series\n",
    "x = np.linspace(0,len(data1),len(data1))"
   ]
  },
  {
   "cell_type": "code",
   "execution_count": 23,
   "metadata": {},
   "outputs": [],
   "source": [
    "output_file('testplt_tcnt.html')\n",
    "# setup size \n",
    "p = figure(title='total count',plot_width=800, plot_height=400)"
   ]
  },
  {
   "cell_type": "code",
   "execution_count": 25,
   "metadata": {},
   "outputs": [
    {
     "data": {
      "text/html": [
       "<div style=\"display: table;\"><div style=\"display: table-row;\"><div style=\"display: table-cell;\"><b title=\"bokeh.models.renderers.GlyphRenderer\">GlyphRenderer</b>(</div><div style=\"display: table-cell;\">id&nbsp;=&nbsp;'1040', <span id=\"1043\" style=\"cursor: pointer;\">&hellip;)</span></div></div><div class=\"1042\" style=\"display: none;\"><div style=\"display: table-cell;\"></div><div style=\"display: table-cell;\">data_source&nbsp;=&nbsp;ColumnDataSource(id='1037', ...),</div></div><div class=\"1042\" style=\"display: none;\"><div style=\"display: table-cell;\"></div><div style=\"display: table-cell;\">glyph&nbsp;=&nbsp;Circle(id='1038', ...),</div></div><div class=\"1042\" style=\"display: none;\"><div style=\"display: table-cell;\"></div><div style=\"display: table-cell;\">hover_glyph&nbsp;=&nbsp;None,</div></div><div class=\"1042\" style=\"display: none;\"><div style=\"display: table-cell;\"></div><div style=\"display: table-cell;\">js_event_callbacks&nbsp;=&nbsp;{},</div></div><div class=\"1042\" style=\"display: none;\"><div style=\"display: table-cell;\"></div><div style=\"display: table-cell;\">js_property_callbacks&nbsp;=&nbsp;{},</div></div><div class=\"1042\" style=\"display: none;\"><div style=\"display: table-cell;\"></div><div style=\"display: table-cell;\">level&nbsp;=&nbsp;'glyph',</div></div><div class=\"1042\" style=\"display: none;\"><div style=\"display: table-cell;\"></div><div style=\"display: table-cell;\">muted&nbsp;=&nbsp;False,</div></div><div class=\"1042\" style=\"display: none;\"><div style=\"display: table-cell;\"></div><div style=\"display: table-cell;\">muted_glyph&nbsp;=&nbsp;None,</div></div><div class=\"1042\" style=\"display: none;\"><div style=\"display: table-cell;\"></div><div style=\"display: table-cell;\">name&nbsp;=&nbsp;None,</div></div><div class=\"1042\" style=\"display: none;\"><div style=\"display: table-cell;\"></div><div style=\"display: table-cell;\">nonselection_glyph&nbsp;=&nbsp;Circle(id='1039', ...),</div></div><div class=\"1042\" style=\"display: none;\"><div style=\"display: table-cell;\"></div><div style=\"display: table-cell;\">selection_glyph&nbsp;=&nbsp;None,</div></div><div class=\"1042\" style=\"display: none;\"><div style=\"display: table-cell;\"></div><div style=\"display: table-cell;\">subscribed_events&nbsp;=&nbsp;[],</div></div><div class=\"1042\" style=\"display: none;\"><div style=\"display: table-cell;\"></div><div style=\"display: table-cell;\">tags&nbsp;=&nbsp;[],</div></div><div class=\"1042\" style=\"display: none;\"><div style=\"display: table-cell;\"></div><div style=\"display: table-cell;\">view&nbsp;=&nbsp;CDSView(id='1041', ...),</div></div><div class=\"1042\" style=\"display: none;\"><div style=\"display: table-cell;\"></div><div style=\"display: table-cell;\">visible&nbsp;=&nbsp;True,</div></div><div class=\"1042\" style=\"display: none;\"><div style=\"display: table-cell;\"></div><div style=\"display: table-cell;\">x_range_name&nbsp;=&nbsp;'default',</div></div><div class=\"1042\" style=\"display: none;\"><div style=\"display: table-cell;\"></div><div style=\"display: table-cell;\">y_range_name&nbsp;=&nbsp;'default')</div></div></div>\n",
       "<script>\n",
       "(function() {\n",
       "  var expanded = false;\n",
       "  var ellipsis = document.getElementById(\"1043\");\n",
       "  ellipsis.addEventListener(\"click\", function() {\n",
       "    var rows = document.getElementsByClassName(\"1042\");\n",
       "    for (var i = 0; i < rows.length; i++) {\n",
       "      var el = rows[i];\n",
       "      el.style.display = expanded ? \"none\" : \"table-row\";\n",
       "    }\n",
       "    ellipsis.innerHTML = expanded ? \"&hellip;)\" : \"&lsaquo;&lsaquo;&lsaquo;\";\n",
       "    expanded = !expanded;\n",
       "  });\n",
       "})();\n",
       "</script>\n"
      ],
      "text/plain": [
       "GlyphRenderer(id='1040', ...)"
      ]
     },
     "execution_count": 25,
     "metadata": {},
     "output_type": "execute_result"
    }
   ],
   "source": [
    "p.circle(x,data1, color='blue', size=7)"
   ]
  },
  {
   "cell_type": "code",
   "execution_count": 26,
   "metadata": {},
   "outputs": [],
   "source": [
    "show(p)"
   ]
  },
  {
   "cell_type": "code",
   "execution_count": 107,
   "metadata": {},
   "outputs": [],
   "source": [
    "from scipy.fftpack import fft, ifft\n",
    "ret = fft(data1)"
   ]
  },
  {
   "cell_type": "code",
   "execution_count": 108,
   "metadata": {},
   "outputs": [
    {
     "data": {
      "text/plain": [
       "array([ 1.48053200e+06   +0.j        ,  2.16566597e+04+6867.53465515j,\n",
       "       -6.97942427e+03-2413.64348393j,  8.81387737e+03+6561.90262585j,\n",
       "       -9.66163871e+03-6101.68835998j,  1.00694880e+03+2685.25423693j,\n",
       "       -4.00724998e+02+3777.21151486j,  5.13299171e+03-2351.56735972j,\n",
       "       -1.62072097e+03+2626.32292463j,  1.55104751e+03+1643.95534041j])"
      ]
     },
     "execution_count": 108,
     "metadata": {},
     "output_type": "execute_result"
    }
   ],
   "source": [
    "ret[0:10]"
   ]
  },
  {
   "cell_type": "code",
   "execution_count": 109,
   "metadata": {},
   "outputs": [],
   "source": [
    "Y=ret[range(int(len(data1)/2))]"
   ]
  },
  {
   "cell_type": "code",
   "execution_count": 110,
   "metadata": {},
   "outputs": [],
   "source": [
    "# construct frequency\n",
    "Fs = 1/(15*60)  # sample rate\n",
    "Ts = 15*60"
   ]
  },
  {
   "cell_type": "code",
   "execution_count": 111,
   "metadata": {},
   "outputs": [],
   "source": [
    "freq = np.arange(len(data1))*Fs/len(data1)\n",
    "freq = freq[range(int(len(data1)/2))]"
   ]
  },
  {
   "cell_type": "code",
   "execution_count": 115,
   "metadata": {},
   "outputs": [],
   "source": [
    "from bokeh.models import HoverTool\n",
    "output_file('testplt_fftfqcAmp.html')\n",
    "# setup size \n",
    "p = figure(title='fft frequencies',plot_width=800, plot_height=400, x_axis_label='Freq(Hz)',y_axis_label='Amplitude')\n",
    "p.line(freq, abs(Y) , line_color='red', line_width=2)\n",
    "p.line(freq, newY , line_color='green', line_width=2)\n",
    "\n",
    "#p.toolbar.active_inspect = [hover_tool, crosshair_tool]\n",
    "x=freq\n",
    "y=abs(Y)\n",
    "p.add_tools(HoverTool(\n",
    "    tooltips=[\n",
    "        ( 'freq',   '$x'            ),\n",
    "        ( 'Amp',  '$y' ), # use @{ } for field names with spaces\n",
    "    ],\n",
    "\n",
    "    formatters={\n",
    "        'freq'      : 'printf', # use 'datetime' formatter for 'date' field\n",
    "        'Amp' : 'printf',   # use 'printf' formatter for 'adj close' field\n",
    "                                  # use default 'numeral' formatter for other fields\n",
    "    },\n",
    "))\n",
    "\n",
    "show(p)"
   ]
  },
  {
   "cell_type": "code",
   "execution_count": 113,
   "metadata": {},
   "outputs": [],
   "source": [
    "#smooth out some noises on the frequencies\n",
    "newY = [x if x > 1.5e4 else 0 for x in abs(Y)]\n",
    "# mask out the high frequencies\n",
    "# presevere non-zero amplitudes but keep the phase\n"
   ]
  },
  {
   "cell_type": "code",
   "execution_count": 114,
   "metadata": {},
   "outputs": [],
   "source": [
    "# reconstruct the signal using ifft\n",
    "# extract the imaginary part\n",
    "imag=np.concatenate((np.imag(Y),np.imag(Y[::-1])), axis=0)\n",
    "real=np.concatenate((newY,newY[::-1]),axis=0)\n",
    "full = imag*1j+real\n",
    "recst=ifft(full)"
   ]
  },
  {
   "cell_type": "code",
   "execution_count": 95,
   "metadata": {},
   "outputs": [
    {
     "data": {
      "text/plain": [
       "array([104.20411036+0.j        ,   1.59906122+0.48335689j,\n",
       "         0.        -0.16987919j,   0.        +0.46184562j,\n",
       "         0.        -0.42945442j,   0.        +0.18899593j,\n",
       "         0.        +0.26585104j,   0.        -0.16551009j,\n",
       "         0.        +0.18484818j,   0.        +0.11570632j])"
      ]
     },
     "execution_count": 95,
     "metadata": {},
     "output_type": "execute_result"
    }
   ],
   "source": [
    "full[0:10]"
   ]
  },
  {
   "cell_type": "code",
   "execution_count": 100,
   "metadata": {},
   "outputs": [],
   "source": [
    "# try plotting inversed fft signal\n",
    "output_file('testplt_ifft.html')\n",
    "# setup size \n",
    "p = figure(title='ifft signal',plot_width=800, plot_height=400, x_axis_label='time(15mins)',y_axis_label='car counts')\n",
    "p.circle(x,data1, color='blue', size=7)\n",
    "p.circle(x,abs(recst), color='green', size=7)\n",
    "\n",
    "#p.toolbar.active_inspect = [hover_tool, crosshair_tool]\n",
    "x=x\n",
    "y=abs(full)\n",
    "p.add_tools(HoverTool(\n",
    "    tooltips=[\n",
    "        ( 'time',   '$x'            ),\n",
    "        ( 'car counts',  '$y' ), # use @{ } for field names with spaces\n",
    "    ],\n",
    "\n",
    "    formatters={\n",
    "        'time'      : 'printf', # use 'datetime' formatter for 'date' field\n",
    "        'car counts' : 'printf',   # use 'printf' formatter for 'adj close' field\n",
    "                                  # use default 'numeral' formatter for other fields\n",
    "    },\n",
    "))\n",
    "\n",
    "show(p)"
   ]
  },
  {
   "cell_type": "code",
   "execution_count": 87,
   "metadata": {},
   "outputs": [
    {
     "data": {
      "text/plain": [
       "14208"
      ]
     },
     "execution_count": 87,
     "metadata": {},
     "output_type": "execute_result"
    }
   ],
   "source": [
    "len(k)"
   ]
  },
  {
   "cell_type": "code",
   "execution_count": null,
   "metadata": {},
   "outputs": [],
   "source": []
  }
 ],
 "metadata": {
  "kernelspec": {
   "display_name": "Python 3",
   "language": "python",
   "name": "python3"
  },
  "language_info": {
   "codemirror_mode": {
    "name": "ipython",
    "version": 3
   },
   "file_extension": ".py",
   "mimetype": "text/x-python",
   "name": "python",
   "nbconvert_exporter": "python",
   "pygments_lexer": "ipython3",
   "version": "3.7.3"
  }
 },
 "nbformat": 4,
 "nbformat_minor": 4
}

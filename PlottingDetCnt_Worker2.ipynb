{
 "cells": [
  {
   "cell_type": "code",
   "execution_count": 1,
   "metadata": {},
   "outputs": [],
   "source": [
    "from bokeh.io import show, output_file\n",
    "from bokeh.plotting import figure, output_file, show\n",
    "import numpy as np"
   ]
  },
  {
   "cell_type": "code",
   "execution_count": 2,
   "metadata": {},
   "outputs": [],
   "source": [
    "from bokeh.models import ColumnDataSource, Plot,DatetimeTickFormatter,FixedTicker"
   ]
  },
  {
   "cell_type": "code",
   "execution_count": 3,
   "metadata": {},
   "outputs": [],
   "source": [
    "Datapath_f1 = 'C:\\\\Users\\\\z0043H7B\\\\Tien\\\\Data\\\\dubuque\\\\wacker\\\\exploreSPM\\\\'"
   ]
  },
  {
   "cell_type": "code",
   "execution_count": 4,
   "metadata": {},
   "outputs": [],
   "source": [
    "import sys\n",
    "sys.path.insert(0, Datapath_f1)"
   ]
  },
  {
   "cell_type": "code",
   "execution_count": 5,
   "metadata": {},
   "outputs": [],
   "source": [
    "import Tools10\n",
    "import numpy as np\n",
    "import time\n",
    "import os\n",
    "import pandas as pd\n",
    "%load_ext autoreload\n",
    "%autoreload 10"
   ]
  },
  {
   "cell_type": "code",
   "execution_count": 6,
   "metadata": {},
   "outputs": [],
   "source": [
    "# test use a time series figure\n",
    "Datapath = '/Users/z0043H7B/Tien/Data/dubuque/Dubuque_080819/Wacker/'"
   ]
  },
  {
   "cell_type": "code",
   "execution_count": 7,
   "metadata": {},
   "outputs": [],
   "source": [
    "import os\n",
    "os.chdir(Datapath)"
   ]
  },
  {
   "cell_type": "code",
   "execution_count": 8,
   "metadata": {},
   "outputs": [],
   "source": [
    "spm = Tools10.fastInSPM_fldin(Datapath)"
   ]
  },
  {
   "cell_type": "code",
   "execution_count": 9,
   "metadata": {},
   "outputs": [
    {
     "name": "stdout",
     "output_type": "stream",
     "text": [
      "<class 'pandas.core.frame.DataFrame'>\n",
      "DatetimeIndex: 16263532 entries, 2018-10-17 10:46:59 to 2019-03-14 10:25:39.500000\n",
      "Data columns (total 3 columns):\n",
      "events    int64\n",
      "device    int64\n",
      "type      float64\n",
      "dtypes: float64(1), int64(2)\n",
      "memory usage: 496.3 MB\n"
     ]
    }
   ],
   "source": [
    "spm.info()"
   ]
  },
  {
   "cell_type": "code",
   "execution_count": 10,
   "metadata": {},
   "outputs": [
    {
     "data": {
      "text/html": [
       "<div>\n",
       "<style scoped>\n",
       "    .dataframe tbody tr th:only-of-type {\n",
       "        vertical-align: middle;\n",
       "    }\n",
       "\n",
       "    .dataframe tbody tr th {\n",
       "        vertical-align: top;\n",
       "    }\n",
       "\n",
       "    .dataframe thead th {\n",
       "        text-align: right;\n",
       "    }\n",
       "</style>\n",
       "<table border=\"1\" class=\"dataframe\">\n",
       "  <thead>\n",
       "    <tr style=\"text-align: right;\">\n",
       "      <th></th>\n",
       "      <th>events</th>\n",
       "      <th>device</th>\n",
       "      <th>type</th>\n",
       "    </tr>\n",
       "    <tr>\n",
       "      <th>time</th>\n",
       "      <th></th>\n",
       "      <th></th>\n",
       "      <th></th>\n",
       "    </tr>\n",
       "  </thead>\n",
       "  <tbody>\n",
       "    <tr>\n",
       "      <th>2018-10-17 10:46:59</th>\n",
       "      <td>174</td>\n",
       "      <td>64</td>\n",
       "      <td>NaN</td>\n",
       "    </tr>\n",
       "    <tr>\n",
       "      <th>2018-10-17 10:46:59</th>\n",
       "      <td>175</td>\n",
       "      <td>1</td>\n",
       "      <td>NaN</td>\n",
       "    </tr>\n",
       "    <tr>\n",
       "      <th>2018-10-17 10:46:59</th>\n",
       "      <td>177</td>\n",
       "      <td>1</td>\n",
       "      <td>NaN</td>\n",
       "    </tr>\n",
       "    <tr>\n",
       "      <th>2018-10-17 10:46:59</th>\n",
       "      <td>177</td>\n",
       "      <td>2</td>\n",
       "      <td>NaN</td>\n",
       "    </tr>\n",
       "    <tr>\n",
       "      <th>2018-10-17 10:46:59</th>\n",
       "      <td>177</td>\n",
       "      <td>3</td>\n",
       "      <td>NaN</td>\n",
       "    </tr>\n",
       "  </tbody>\n",
       "</table>\n",
       "</div>"
      ],
      "text/plain": [
       "                     events  device  type\n",
       "time                                     \n",
       "2018-10-17 10:46:59     174      64   NaN\n",
       "2018-10-17 10:46:59     175       1   NaN\n",
       "2018-10-17 10:46:59     177       1   NaN\n",
       "2018-10-17 10:46:59     177       2   NaN\n",
       "2018-10-17 10:46:59     177       3   NaN"
      ]
     },
     "execution_count": 10,
     "metadata": {},
     "output_type": "execute_result"
    }
   ],
   "source": [
    "spm.head()"
   ]
  },
  {
   "cell_type": "code",
   "execution_count": 9,
   "metadata": {},
   "outputs": [],
   "source": [
    "newdf=pd.read_csv('Wacker_15minDetAct.csv',encoding='utf-8',parse_dates=True,index_col=0)"
   ]
  },
  {
   "cell_type": "code",
   "execution_count": 10,
   "metadata": {},
   "outputs": [
    {
     "name": "stdout",
     "output_type": "stream",
     "text": [
      "<class 'pandas.core.frame.DataFrame'>\n",
      "DatetimeIndex: 14208 entries, 2018-10-17 10:45:00 to 2019-03-14 10:30:00\n",
      "Data columns (total 16 columns):\n",
      "det33          14208 non-null int64\n",
      "det35          14208 non-null int64\n",
      "det37          14208 non-null int64\n",
      "det39          14208 non-null int64\n",
      "det41          14208 non-null int64\n",
      "det43          14208 non-null int64\n",
      "det45          14208 non-null int64\n",
      "det47          14208 non-null int64\n",
      "totalct        14208 non-null int64\n",
      "month          14208 non-null int64\n",
      "day            14208 non-null int64\n",
      "hour           14208 non-null int64\n",
      "minute         14208 non-null int64\n",
      "day-of-week    14208 non-null int64\n",
      "year           14208 non-null int64\n",
      "min_bin        14208 non-null int64\n",
      "dtypes: int64(16)\n",
      "memory usage: 1.8 MB\n"
     ]
    }
   ],
   "source": [
    "newdf.info()"
   ]
  },
  {
   "cell_type": "code",
   "execution_count": 11,
   "metadata": {},
   "outputs": [],
   "source": [
    "# load the 8 cluster labels\n",
    "EightClus= pd.read_csv('ClusteringNk_n8_label.csv')"
   ]
  },
  {
   "cell_type": "code",
   "execution_count": 12,
   "metadata": {},
   "outputs": [
    {
     "data": {
      "text/plain": [
       "1    2718\n",
       "7    2555\n",
       "4    2277\n",
       "2    2026\n",
       "3    1677\n",
       "6    1360\n",
       "0    1039\n",
       "5     554\n",
       "Name: colummn, dtype: int64"
      ]
     },
     "execution_count": 12,
     "metadata": {},
     "output_type": "execute_result"
    }
   ],
   "source": [
    "EightClus.iloc[:,0].value_counts()"
   ]
  },
  {
   "cell_type": "code",
   "execution_count": 13,
   "metadata": {},
   "outputs": [],
   "source": [
    "dump=EightClus.colummn.values"
   ]
  },
  {
   "cell_type": "code",
   "execution_count": 14,
   "metadata": {},
   "outputs": [
    {
     "data": {
      "text/plain": [
       "{0, 1, 2, 3, 4, 5, 6, 7}"
      ]
     },
     "execution_count": 14,
     "metadata": {},
     "output_type": "execute_result"
    }
   ],
   "source": [
    "set(dump)"
   ]
  },
  {
   "cell_type": "code",
   "execution_count": 15,
   "metadata": {},
   "outputs": [
    {
     "data": {
      "text/plain": [
       "14206"
      ]
     },
     "execution_count": 15,
     "metadata": {},
     "output_type": "execute_result"
    }
   ],
   "source": [
    "len(dump)"
   ]
  },
  {
   "cell_type": "code",
   "execution_count": 16,
   "metadata": {},
   "outputs": [
    {
     "name": "stdout",
     "output_type": "stream",
     "text": [
      "4 4\n"
     ]
    }
   ],
   "source": [
    "print(dump[0],dump[len(dump)-1])"
   ]
  },
  {
   "cell_type": "code",
   "execution_count": 17,
   "metadata": {},
   "outputs": [],
   "source": [
    "#pad the first and last row for consistency\n",
    "dump=np.append(4,dump)\n",
    "dump=np.append(dump,4)"
   ]
  },
  {
   "cell_type": "code",
   "execution_count": 18,
   "metadata": {},
   "outputs": [
    {
     "data": {
      "text/plain": [
       "14208"
      ]
     },
     "execution_count": 18,
     "metadata": {},
     "output_type": "execute_result"
    }
   ],
   "source": [
    "len(dump)"
   ]
  },
  {
   "cell_type": "code",
   "execution_count": 19,
   "metadata": {},
   "outputs": [],
   "source": [
    "newdf['clu_lbl']=dump"
   ]
  },
  {
   "cell_type": "code",
   "execution_count": 20,
   "metadata": {},
   "outputs": [
    {
     "data": {
      "text/plain": [
       "1    2718\n",
       "7    2555\n",
       "4    2279\n",
       "2    2026\n",
       "3    1677\n",
       "6    1360\n",
       "0    1039\n",
       "5     554\n",
       "Name: clu_lbl, dtype: int64"
      ]
     },
     "execution_count": 20,
     "metadata": {},
     "output_type": "execute_result"
    }
   ],
   "source": [
    "newdf.clu_lbl.value_counts()"
   ]
  },
  {
   "cell_type": "code",
   "execution_count": 21,
   "metadata": {},
   "outputs": [
    {
     "data": {
      "text/plain": [
       "14208"
      ]
     },
     "execution_count": 21,
     "metadata": {},
     "output_type": "execute_result"
    }
   ],
   "source": [
    "sum(newdf.clu_lbl.value_counts())"
   ]
  },
  {
   "cell_type": "code",
   "execution_count": 39,
   "metadata": {},
   "outputs": [
    {
     "name": "stdout",
     "output_type": "stream",
     "text": [
      "1039\n",
      "2718\n",
      "2026\n",
      "1677\n",
      "2279\n",
      "554\n",
      "1360\n",
      "2555\n"
     ]
    }
   ],
   "source": [
    "totalx =0\n",
    "for i in list(set(dump)):\n",
    "    print(len(prep_clust(newdf,i)[0]))\n",
    "    totalx += len(prep_clust(newdf,i)[0])"
   ]
  },
  {
   "cell_type": "code",
   "execution_count": 146,
   "metadata": {},
   "outputs": [
    {
     "name": "stdout",
     "output_type": "stream",
     "text": [
      "14208\n"
     ]
    }
   ],
   "source": [
    "print(totalx)"
   ]
  },
  {
   "cell_type": "code",
   "execution_count": 41,
   "metadata": {},
   "outputs": [],
   "source": [
    "# load the 4 cluster labels\n",
    "FourClus= pd.read_csv('ClusterNk_n4_label.csv')"
   ]
  },
  {
   "cell_type": "code",
   "execution_count": 42,
   "metadata": {},
   "outputs": [
    {
     "name": "stdout",
     "output_type": "stream",
     "text": [
      "12190\n"
     ]
    }
   ],
   "source": [
    "print(len(FourClus))"
   ]
  },
  {
   "cell_type": "code",
   "execution_count": 64,
   "metadata": {
    "collapsed": true,
    "jupyter": {
     "outputs_hidden": true,
     "source_hidden": true
    }
   },
   "outputs": [
    {
     "data": {
      "text/html": [
       "<div>\n",
       "<style scoped>\n",
       "    .dataframe tbody tr th:only-of-type {\n",
       "        vertical-align: middle;\n",
       "    }\n",
       "\n",
       "    .dataframe tbody tr th {\n",
       "        vertical-align: top;\n",
       "    }\n",
       "\n",
       "    .dataframe thead th {\n",
       "        text-align: right;\n",
       "    }\n",
       "</style>\n",
       "<table border=\"1\" class=\"dataframe\">\n",
       "  <thead>\n",
       "    <tr style=\"text-align: right;\">\n",
       "      <th></th>\n",
       "      <th>year</th>\n",
       "      <th>month</th>\n",
       "      <th>day</th>\n",
       "      <th>dow</th>\n",
       "      <th>hh</th>\n",
       "      <th>minute</th>\n",
       "      <th>t_bin</th>\n",
       "      <th>zeros</th>\n",
       "      <th>det1</th>\n",
       "      <th>det2</th>\n",
       "      <th>det3</th>\n",
       "      <th>det4</th>\n",
       "      <th>det5</th>\n",
       "      <th>det6</th>\n",
       "      <th>det7</th>\n",
       "      <th>det8</th>\n",
       "      <th>total_cnt</th>\n",
       "      <th>totalBins</th>\n",
       "      <th>Clst</th>\n",
       "    </tr>\n",
       "  </thead>\n",
       "  <tbody>\n",
       "    <tr>\n",
       "      <th>0</th>\n",
       "      <td>2018</td>\n",
       "      <td>10</td>\n",
       "      <td>17</td>\n",
       "      <td>2</td>\n",
       "      <td>11</td>\n",
       "      <td>0</td>\n",
       "      <td>44</td>\n",
       "      <td>0</td>\n",
       "      <td>98</td>\n",
       "      <td>32</td>\n",
       "      <td>31</td>\n",
       "      <td>29</td>\n",
       "      <td>70</td>\n",
       "      <td>25</td>\n",
       "      <td>34</td>\n",
       "      <td>20</td>\n",
       "      <td>339</td>\n",
       "      <td>3</td>\n",
       "      <td>1</td>\n",
       "    </tr>\n",
       "    <tr>\n",
       "      <th>1</th>\n",
       "      <td>2018</td>\n",
       "      <td>10</td>\n",
       "      <td>17</td>\n",
       "      <td>2</td>\n",
       "      <td>11</td>\n",
       "      <td>15</td>\n",
       "      <td>45</td>\n",
       "      <td>0</td>\n",
       "      <td>123</td>\n",
       "      <td>32</td>\n",
       "      <td>32</td>\n",
       "      <td>34</td>\n",
       "      <td>88</td>\n",
       "      <td>22</td>\n",
       "      <td>33</td>\n",
       "      <td>22</td>\n",
       "      <td>386</td>\n",
       "      <td>3</td>\n",
       "      <td>1</td>\n",
       "    </tr>\n",
       "    <tr>\n",
       "      <th>2</th>\n",
       "      <td>2018</td>\n",
       "      <td>10</td>\n",
       "      <td>17</td>\n",
       "      <td>2</td>\n",
       "      <td>11</td>\n",
       "      <td>30</td>\n",
       "      <td>46</td>\n",
       "      <td>0</td>\n",
       "      <td>131</td>\n",
       "      <td>32</td>\n",
       "      <td>37</td>\n",
       "      <td>37</td>\n",
       "      <td>64</td>\n",
       "      <td>21</td>\n",
       "      <td>31</td>\n",
       "      <td>25</td>\n",
       "      <td>378</td>\n",
       "      <td>3</td>\n",
       "      <td>1</td>\n",
       "    </tr>\n",
       "    <tr>\n",
       "      <th>3</th>\n",
       "      <td>2018</td>\n",
       "      <td>10</td>\n",
       "      <td>17</td>\n",
       "      <td>2</td>\n",
       "      <td>11</td>\n",
       "      <td>45</td>\n",
       "      <td>47</td>\n",
       "      <td>0</td>\n",
       "      <td>118</td>\n",
       "      <td>30</td>\n",
       "      <td>39</td>\n",
       "      <td>40</td>\n",
       "      <td>76</td>\n",
       "      <td>20</td>\n",
       "      <td>25</td>\n",
       "      <td>29</td>\n",
       "      <td>377</td>\n",
       "      <td>3</td>\n",
       "      <td>1</td>\n",
       "    </tr>\n",
       "    <tr>\n",
       "      <th>4</th>\n",
       "      <td>2018</td>\n",
       "      <td>10</td>\n",
       "      <td>17</td>\n",
       "      <td>2</td>\n",
       "      <td>12</td>\n",
       "      <td>0</td>\n",
       "      <td>48</td>\n",
       "      <td>0</td>\n",
       "      <td>103</td>\n",
       "      <td>28</td>\n",
       "      <td>37</td>\n",
       "      <td>34</td>\n",
       "      <td>66</td>\n",
       "      <td>23</td>\n",
       "      <td>30</td>\n",
       "      <td>25</td>\n",
       "      <td>346</td>\n",
       "      <td>3</td>\n",
       "      <td>1</td>\n",
       "    </tr>\n",
       "  </tbody>\n",
       "</table>\n",
       "</div>"
      ],
      "text/plain": [
       "   year  month  day  dow  hh  minute  t_bin  zeros  det1  det2  det3  det4  \\\n",
       "0  2018     10   17    2  11       0     44      0    98    32    31    29   \n",
       "1  2018     10   17    2  11      15     45      0   123    32    32    34   \n",
       "2  2018     10   17    2  11      30     46      0   131    32    37    37   \n",
       "3  2018     10   17    2  11      45     47      0   118    30    39    40   \n",
       "4  2018     10   17    2  12       0     48      0   103    28    37    34   \n",
       "\n",
       "   det5  det6  det7  det8  total_cnt  totalBins  Clst  \n",
       "0    70    25    34    20        339          3     1  \n",
       "1    88    22    33    22        386          3     1  \n",
       "2    64    21    31    25        378          3     1  \n",
       "3    76    20    25    29        377          3     1  \n",
       "4    66    23    30    25        346          3     1  "
      ]
     },
     "execution_count": 64,
     "metadata": {},
     "output_type": "execute_result"
    }
   ],
   "source": [
    "FourClus.head()"
   ]
  },
  {
   "cell_type": "code",
   "execution_count": 156,
   "metadata": {},
   "outputs": [
    {
     "data": {
      "text/html": [
       "<div>\n",
       "<style scoped>\n",
       "    .dataframe tbody tr th:only-of-type {\n",
       "        vertical-align: middle;\n",
       "    }\n",
       "\n",
       "    .dataframe tbody tr th {\n",
       "        vertical-align: top;\n",
       "    }\n",
       "\n",
       "    .dataframe thead th {\n",
       "        text-align: right;\n",
       "    }\n",
       "</style>\n",
       "<table border=\"1\" class=\"dataframe\">\n",
       "  <thead>\n",
       "    <tr style=\"text-align: right;\">\n",
       "      <th></th>\n",
       "      <th>year</th>\n",
       "      <th>month</th>\n",
       "      <th>day</th>\n",
       "      <th>dow</th>\n",
       "      <th>hh</th>\n",
       "      <th>minute</th>\n",
       "      <th>t_bin</th>\n",
       "      <th>zeros</th>\n",
       "      <th>det1</th>\n",
       "      <th>det2</th>\n",
       "      <th>det3</th>\n",
       "      <th>det4</th>\n",
       "      <th>det5</th>\n",
       "      <th>det6</th>\n",
       "      <th>det7</th>\n",
       "      <th>det8</th>\n",
       "      <th>total_cnt</th>\n",
       "      <th>totalBins</th>\n",
       "      <th>Clst</th>\n",
       "    </tr>\n",
       "  </thead>\n",
       "  <tbody>\n",
       "    <tr>\n",
       "      <th>12185</th>\n",
       "      <td>2019</td>\n",
       "      <td>3</td>\n",
       "      <td>14</td>\n",
       "      <td>3</td>\n",
       "      <td>9</td>\n",
       "      <td>15</td>\n",
       "      <td>37</td>\n",
       "      <td>0</td>\n",
       "      <td>116</td>\n",
       "      <td>25</td>\n",
       "      <td>42</td>\n",
       "      <td>17</td>\n",
       "      <td>201</td>\n",
       "      <td>23</td>\n",
       "      <td>37</td>\n",
       "      <td>15</td>\n",
       "      <td>476</td>\n",
       "      <td>3</td>\n",
       "      <td>0</td>\n",
       "    </tr>\n",
       "    <tr>\n",
       "      <th>12186</th>\n",
       "      <td>2019</td>\n",
       "      <td>3</td>\n",
       "      <td>14</td>\n",
       "      <td>3</td>\n",
       "      <td>9</td>\n",
       "      <td>30</td>\n",
       "      <td>38</td>\n",
       "      <td>0</td>\n",
       "      <td>111</td>\n",
       "      <td>27</td>\n",
       "      <td>37</td>\n",
       "      <td>18</td>\n",
       "      <td>210</td>\n",
       "      <td>25</td>\n",
       "      <td>43</td>\n",
       "      <td>13</td>\n",
       "      <td>484</td>\n",
       "      <td>3</td>\n",
       "      <td>0</td>\n",
       "    </tr>\n",
       "    <tr>\n",
       "      <th>12187</th>\n",
       "      <td>2019</td>\n",
       "      <td>3</td>\n",
       "      <td>14</td>\n",
       "      <td>3</td>\n",
       "      <td>9</td>\n",
       "      <td>45</td>\n",
       "      <td>39</td>\n",
       "      <td>0</td>\n",
       "      <td>108</td>\n",
       "      <td>29</td>\n",
       "      <td>36</td>\n",
       "      <td>21</td>\n",
       "      <td>180</td>\n",
       "      <td>25</td>\n",
       "      <td>49</td>\n",
       "      <td>19</td>\n",
       "      <td>467</td>\n",
       "      <td>3</td>\n",
       "      <td>0</td>\n",
       "    </tr>\n",
       "    <tr>\n",
       "      <th>12188</th>\n",
       "      <td>2019</td>\n",
       "      <td>3</td>\n",
       "      <td>14</td>\n",
       "      <td>3</td>\n",
       "      <td>10</td>\n",
       "      <td>0</td>\n",
       "      <td>40</td>\n",
       "      <td>0</td>\n",
       "      <td>115</td>\n",
       "      <td>27</td>\n",
       "      <td>34</td>\n",
       "      <td>19</td>\n",
       "      <td>103</td>\n",
       "      <td>21</td>\n",
       "      <td>42</td>\n",
       "      <td>21</td>\n",
       "      <td>382</td>\n",
       "      <td>3</td>\n",
       "      <td>1</td>\n",
       "    </tr>\n",
       "    <tr>\n",
       "      <th>12189</th>\n",
       "      <td>2019</td>\n",
       "      <td>3</td>\n",
       "      <td>14</td>\n",
       "      <td>3</td>\n",
       "      <td>10</td>\n",
       "      <td>15</td>\n",
       "      <td>41</td>\n",
       "      <td>0</td>\n",
       "      <td>69</td>\n",
       "      <td>18</td>\n",
       "      <td>21</td>\n",
       "      <td>12</td>\n",
       "      <td>48</td>\n",
       "      <td>14</td>\n",
       "      <td>25</td>\n",
       "      <td>16</td>\n",
       "      <td>223</td>\n",
       "      <td>3</td>\n",
       "      <td>2</td>\n",
       "    </tr>\n",
       "  </tbody>\n",
       "</table>\n",
       "</div>"
      ],
      "text/plain": [
       "       year  month  day  dow  hh  minute  t_bin  zeros  det1  det2  det3  \\\n",
       "12185  2019      3   14    3   9      15     37      0   116    25    42   \n",
       "12186  2019      3   14    3   9      30     38      0   111    27    37   \n",
       "12187  2019      3   14    3   9      45     39      0   108    29    36   \n",
       "12188  2019      3   14    3  10       0     40      0   115    27    34   \n",
       "12189  2019      3   14    3  10      15     41      0    69    18    21   \n",
       "\n",
       "       det4  det5  det6  det7  det8  total_cnt  totalBins  Clst  \n",
       "12185    17   201    23    37    15        476          3     0  \n",
       "12186    18   210    25    43    13        484          3     0  \n",
       "12187    21   180    25    49    19        467          3     0  \n",
       "12188    19   103    21    42    21        382          3     1  \n",
       "12189    12    48    14    25    16        223          3     2  "
      ]
     },
     "execution_count": 156,
     "metadata": {},
     "output_type": "execute_result"
    }
   ],
   "source": [
    "FourClus.tail()"
   ]
  },
  {
   "cell_type": "code",
   "execution_count": 43,
   "metadata": {},
   "outputs": [],
   "source": [
    "# create time stamp\n",
    "dummy=pd.DataFrame({'year': list(FourClus.year.values),\n",
    "                    'month': list(FourClus.month.values),\n",
    "                     'day': list(FourClus.day.values),\n",
    "                    'hour': list(FourClus.hh.values),\n",
    "                    'minute': list(FourClus.minute.values)\n",
    "                   })"
   ]
  },
  {
   "cell_type": "code",
   "execution_count": 44,
   "metadata": {},
   "outputs": [],
   "source": [
    "dummy2=pd.to_datetime(dummy)"
   ]
  },
  {
   "cell_type": "code",
   "execution_count": 45,
   "metadata": {},
   "outputs": [],
   "source": [
    "dummy.index=dummy2"
   ]
  },
  {
   "cell_type": "code",
   "execution_count": 46,
   "metadata": {},
   "outputs": [],
   "source": [
    "dummy['clu_lbl']=FourClus.Clst.values"
   ]
  },
  {
   "cell_type": "code",
   "execution_count": 48,
   "metadata": {},
   "outputs": [
    {
     "data": {
      "text/html": [
       "<div>\n",
       "<style scoped>\n",
       "    .dataframe tbody tr th:only-of-type {\n",
       "        vertical-align: middle;\n",
       "    }\n",
       "\n",
       "    .dataframe tbody tr th {\n",
       "        vertical-align: top;\n",
       "    }\n",
       "\n",
       "    .dataframe thead th {\n",
       "        text-align: right;\n",
       "    }\n",
       "</style>\n",
       "<table border=\"1\" class=\"dataframe\">\n",
       "  <thead>\n",
       "    <tr style=\"text-align: right;\">\n",
       "      <th></th>\n",
       "      <th>year</th>\n",
       "      <th>month</th>\n",
       "      <th>day</th>\n",
       "      <th>hour</th>\n",
       "      <th>minute</th>\n",
       "      <th>clu_lbl</th>\n",
       "    </tr>\n",
       "  </thead>\n",
       "  <tbody>\n",
       "    <tr>\n",
       "      <th>2018-10-17 11:00:00</th>\n",
       "      <td>2018</td>\n",
       "      <td>10</td>\n",
       "      <td>17</td>\n",
       "      <td>11</td>\n",
       "      <td>0</td>\n",
       "      <td>1</td>\n",
       "    </tr>\n",
       "    <tr>\n",
       "      <th>2018-10-17 11:15:00</th>\n",
       "      <td>2018</td>\n",
       "      <td>10</td>\n",
       "      <td>17</td>\n",
       "      <td>11</td>\n",
       "      <td>15</td>\n",
       "      <td>1</td>\n",
       "    </tr>\n",
       "    <tr>\n",
       "      <th>2018-10-17 11:30:00</th>\n",
       "      <td>2018</td>\n",
       "      <td>10</td>\n",
       "      <td>17</td>\n",
       "      <td>11</td>\n",
       "      <td>30</td>\n",
       "      <td>1</td>\n",
       "    </tr>\n",
       "    <tr>\n",
       "      <th>2018-10-17 11:45:00</th>\n",
       "      <td>2018</td>\n",
       "      <td>10</td>\n",
       "      <td>17</td>\n",
       "      <td>11</td>\n",
       "      <td>45</td>\n",
       "      <td>1</td>\n",
       "    </tr>\n",
       "    <tr>\n",
       "      <th>2018-10-17 12:00:00</th>\n",
       "      <td>2018</td>\n",
       "      <td>10</td>\n",
       "      <td>17</td>\n",
       "      <td>12</td>\n",
       "      <td>0</td>\n",
       "      <td>1</td>\n",
       "    </tr>\n",
       "  </tbody>\n",
       "</table>\n",
       "</div>"
      ],
      "text/plain": [
       "                     year  month  day  hour  minute  clu_lbl\n",
       "2018-10-17 11:00:00  2018     10   17    11       0        1\n",
       "2018-10-17 11:15:00  2018     10   17    11      15        1\n",
       "2018-10-17 11:30:00  2018     10   17    11      30        1\n",
       "2018-10-17 11:45:00  2018     10   17    11      45        1\n",
       "2018-10-17 12:00:00  2018     10   17    12       0        1"
      ]
     },
     "execution_count": 48,
     "metadata": {},
     "output_type": "execute_result"
    }
   ],
   "source": [
    "dummy.head()"
   ]
  },
  {
   "cell_type": "code",
   "execution_count": 155,
   "metadata": {},
   "outputs": [
    {
     "data": {
      "text/html": [
       "<div>\n",
       "<style scoped>\n",
       "    .dataframe tbody tr th:only-of-type {\n",
       "        vertical-align: middle;\n",
       "    }\n",
       "\n",
       "    .dataframe tbody tr th {\n",
       "        vertical-align: top;\n",
       "    }\n",
       "\n",
       "    .dataframe thead th {\n",
       "        text-align: right;\n",
       "    }\n",
       "</style>\n",
       "<table border=\"1\" class=\"dataframe\">\n",
       "  <thead>\n",
       "    <tr style=\"text-align: right;\">\n",
       "      <th></th>\n",
       "      <th>year</th>\n",
       "      <th>month</th>\n",
       "      <th>day</th>\n",
       "      <th>hour</th>\n",
       "      <th>minute</th>\n",
       "      <th>clu_lbl</th>\n",
       "    </tr>\n",
       "  </thead>\n",
       "  <tbody>\n",
       "    <tr>\n",
       "      <th>2019-03-14 09:15:00</th>\n",
       "      <td>2019</td>\n",
       "      <td>3</td>\n",
       "      <td>14</td>\n",
       "      <td>9</td>\n",
       "      <td>15</td>\n",
       "      <td>0</td>\n",
       "    </tr>\n",
       "    <tr>\n",
       "      <th>2019-03-14 09:30:00</th>\n",
       "      <td>2019</td>\n",
       "      <td>3</td>\n",
       "      <td>14</td>\n",
       "      <td>9</td>\n",
       "      <td>30</td>\n",
       "      <td>0</td>\n",
       "    </tr>\n",
       "    <tr>\n",
       "      <th>2019-03-14 09:45:00</th>\n",
       "      <td>2019</td>\n",
       "      <td>3</td>\n",
       "      <td>14</td>\n",
       "      <td>9</td>\n",
       "      <td>45</td>\n",
       "      <td>0</td>\n",
       "    </tr>\n",
       "    <tr>\n",
       "      <th>2019-03-14 10:00:00</th>\n",
       "      <td>2019</td>\n",
       "      <td>3</td>\n",
       "      <td>14</td>\n",
       "      <td>10</td>\n",
       "      <td>0</td>\n",
       "      <td>1</td>\n",
       "    </tr>\n",
       "    <tr>\n",
       "      <th>2019-03-14 10:15:00</th>\n",
       "      <td>2019</td>\n",
       "      <td>3</td>\n",
       "      <td>14</td>\n",
       "      <td>10</td>\n",
       "      <td>15</td>\n",
       "      <td>2</td>\n",
       "    </tr>\n",
       "  </tbody>\n",
       "</table>\n",
       "</div>"
      ],
      "text/plain": [
       "                     year  month  day  hour  minute  clu_lbl\n",
       "2019-03-14 09:15:00  2019      3   14     9      15        0\n",
       "2019-03-14 09:30:00  2019      3   14     9      30        0\n",
       "2019-03-14 09:45:00  2019      3   14     9      45        0\n",
       "2019-03-14 10:00:00  2019      3   14    10       0        1\n",
       "2019-03-14 10:15:00  2019      3   14    10      15        2"
      ]
     },
     "execution_count": 155,
     "metadata": {},
     "output_type": "execute_result"
    }
   ],
   "source": [
    "dummy.tail()"
   ]
  },
  {
   "cell_type": "code",
   "execution_count": 49,
   "metadata": {},
   "outputs": [
    {
     "data": {
      "text/plain": [
       "1    3880\n",
       "0    3315\n",
       "3    2621\n",
       "2    2374\n",
       "Name: clu_lbl, dtype: int64"
      ]
     },
     "execution_count": 49,
     "metadata": {},
     "output_type": "execute_result"
    }
   ],
   "source": [
    "dummy.clu_lbl.value_counts()"
   ]
  },
  {
   "cell_type": "code",
   "execution_count": 50,
   "metadata": {},
   "outputs": [
    {
     "name": "stdout",
     "output_type": "stream",
     "text": [
      "12190\n"
     ]
    }
   ],
   "source": [
    "print(sum(dummy.clu_lbl.value_counts()))"
   ]
  },
  {
   "cell_type": "code",
   "execution_count": 38,
   "metadata": {},
   "outputs": [],
   "source": [
    "def prep_clust(df,nclus):\n",
    "    \"\"\" function used to extract the timestamps for different cluster labeled bins\"\"\"\n",
    "    # create new subset of data\n",
    "    sub = df[df.clu_lbl==nclus]\n",
    "    st_d = pd.to_datetime(sub.index)\n",
    "    ed_d = st_d+pd.to_timedelta('15min')\n",
    "    \n",
    "    return st_d,ed_d"
   ]
  },
  {
   "cell_type": "code",
   "execution_count": 127,
   "metadata": {},
   "outputs": [
    {
     "name": "stdout",
     "output_type": "stream",
     "text": [
      "1039\n",
      "2718\n",
      "2026\n",
      "1677\n",
      "2279\n",
      "554\n",
      "1360\n",
      "2555\n"
     ]
    }
   ],
   "source": [
    "for i in list(set(dump)):\n",
    "    print(len(prep_clust(newdf,i)[0]))"
   ]
  },
  {
   "cell_type": "code",
   "execution_count": 132,
   "metadata": {},
   "outputs": [
    {
     "data": {
      "text/plain": [
       "{0, 1, 2, 3, 4, 5, 6, 7}"
      ]
     },
     "execution_count": 132,
     "metadata": {},
     "output_type": "execute_result"
    }
   ],
   "source": [
    "set(dump)"
   ]
  },
  {
   "cell_type": "code",
   "execution_count": 53,
   "metadata": {},
   "outputs": [],
   "source": [
    "# plot total activity per 15 mins on a full figure\n",
    "    # setup figure\n",
    "output_file('Devon_car_cnt_actwClust8.html')\n",
    "    # setup size \n",
    "p = figure(title='Wacker detectors count',plot_width=1400, plot_height=500)\n",
    "    \n",
    "    # setup tickers\n",
    "mjtick, mntick= Tools10.gen_dtticker(newdf, '1H', '30T')\n",
    "p.vbar(x=newdf.index, width=0.5, bottom=0, top=newdf['totalct'], color=\"#1d49cf\")\n",
    "\n",
    "## create line segment info for clusters\n",
    "std,etd=prep_clust(newdf,0)\n",
    "y=[200 for x in range(len(std))]\n",
    "p.segment(x0=std, y0=y, x1=etd, y1=y, line_color=\"#e8810c\", line_width=7)\n",
    "std,etd=prep_clust(newdf,1)\n",
    "y=[200 for x in range(len(std))]\n",
    "p.segment(x0=std, y0=y, x1=etd, y1=y, line_color=\"#9c09eb\", line_width=7)\n",
    "std,etd=prep_clust(newdf,2)\n",
    "y=[200 for x in range(len(std))]\n",
    "p.segment(x0=std, y0=y, x1=etd, y1=y, line_color=\"#3309eb\", line_width=7)\n",
    "std,etd=prep_clust(newdf,3)\n",
    "y=[200 for x in range(len(std))]\n",
    "p.segment(x0=std, y0=y, x1=etd, y1=y, line_color=\"#13c70a\", line_width=7)\n",
    "std,etd=prep_clust(newdf,4)\n",
    "y=[200 for x in range(len(std))]\n",
    "p.segment(x0=std, y0=y, x1=etd, y1=y, line_color=\"#c598ed\", line_width=7)\n",
    "std,etd=prep_clust(newdf,5)\n",
    "y=[200 for x in range(len(std))]\n",
    "p.segment(x0=std, y0=y, x1=etd, y1=y, line_color=\"#e63715\", line_width=7)\n",
    "std,etd=prep_clust(newdf,6)\n",
    "y=[200 for x in range(len(std))]\n",
    "p.segment(x0=std, y0=y, x1=etd, y1=y, line_color=\"#ed8a77\", line_width=7)\n",
    "std,etd=prep_clust(newdf,7)\n",
    "y=[200 for x in range(len(std))]\n",
    "p.segment(x0=std, y0=y, x1=etd, y1=y, line_color=\"#a8d472\", line_width=7)\n",
    "\n",
    "### plotting the second line for 4 clusters\n",
    "std,etd=prep_clust(dummy,0)\n",
    "y=[210 for x in range(len(std))]\n",
    "p.segment(x0=std, y0=y, x1=etd, y1=y, line_color=\"#edd924\", line_width=7)\n",
    "std,etd=prep_clust(dummy,1)\n",
    "y=[210 for x in range(len(std))]\n",
    "p.segment(x0=std, y0=y, x1=etd, y1=y, line_color=\"#e8812c\", line_width=7)\n",
    "std,etd=prep_clust(dummy,2)\n",
    "y=[210 for x in range(len(std))]\n",
    "p.segment(x0=std, y0=y, x1=etd, y1=y, line_color=\"#e64a27\", line_width=7)\n",
    "std,etd=prep_clust(dummy,3)\n",
    "y=[210 for x in range(len(std))]\n",
    "p.segment(x0=std, y0=y, x1=etd, y1=y, line_color=\"#306cdb\", line_width=7)\n",
    "\n",
    "p.xgrid.ticker = FixedTicker(ticks=mntick) # set minor ticker as more granularity\n",
    "p.xaxis.ticker = FixedTicker(ticks=mjtick) #set major ticker to axis label\n",
    "#p.xaxis.ticker.desired_num_ticks = 100\n",
    "p.xaxis.major_label_orientation = \"vertical\"  # rotate label orientation\n",
    "p.xaxis.formatter=DatetimeTickFormatter(days=[\"%m/%d %H:%M\"],months=[\"%m/%d %H:%M\"],hours=[\"%m/%d %H:%M\"])#,minutes=[\"%m/%d %H:%M\"])\n",
    "    # set the grid interval filling\n",
    "p.xgrid.band_fill_color = \"grey\"\n",
    "p.xgrid.band_fill_alpha = 0.05\n",
    "show(p)"
   ]
  },
  {
   "cell_type": "code",
   "execution_count": null,
   "metadata": {},
   "outputs": [],
   "source": [
    "# do the stats part\n"
   ]
  },
  {
   "cell_type": "code",
   "execution_count": 55,
   "metadata": {},
   "outputs": [],
   "source": [
    "# seperate out the workdays\n",
    "Wkd = newdf[newdf['day-of-week'].isin([x for x in range(0,5)])]  # Mon-Friday\n",
    "Wked = newdf[newdf['day-of-week'].isin([x for x in range(5,7)])]  # Sat,Sun"
   ]
  },
  {
   "cell_type": "code",
   "execution_count": 56,
   "metadata": {
    "jupyter": {
     "source_hidden": true
    }
   },
   "outputs": [],
   "source": [
    "# exclude holidays from data:\n",
    "from pandas.tseries.holiday import USFederalHolidayCalendar as calendar\n",
    "\n",
    "dr = pd.date_range(start='2018-10-17', end='2019-03-14')\n",
    "tmpdf = pd.DataFrame()\n",
    "tmpdf['Date'] = dr\n",
    "\n",
    "cal = calendar()\n",
    "holidays = cal.holidays(start=dr.min(), end=dr.max())\n",
    "tmpdf['Holiday'] = tmpdf['Date'].isin(holidays)\n",
    "tmpdf.index=pd.to_datetime(tmpdf['Date'])\n",
    "# select out the holidays\n",
    "holi_inddate=tmpdf[tmpdf.Holiday==True].index"
   ]
  },
  {
   "cell_type": "code",
   "execution_count": 57,
   "metadata": {
    "jupyter": {
     "source_hidden": true
    }
   },
   "outputs": [
    {
     "name": "stdout",
     "output_type": "stream",
     "text": [
      "DatetimeIndex(['2018-11-12', '2018-11-22', '2018-12-25', '2019-01-01',\n",
      "               '2019-01-21', '2019-02-18'],\n",
      "              dtype='datetime64[ns]', name='Date', freq=None)\n"
     ]
    }
   ],
   "source": [
    "print(holi_inddate)"
   ]
  },
  {
   "cell_type": "code",
   "execution_count": 58,
   "metadata": {
    "jupyter": {
     "source_hidden": true
    }
   },
   "outputs": [
    {
     "name": "stderr",
     "output_type": "stream",
     "text": [
      "C:\\Users\\z0043H7B\\AppData\\Local\\Continuum\\miniconda3\\lib\\site-packages\\ipykernel_launcher.py:1: SettingWithCopyWarning: \n",
      "A value is trying to be set on a copy of a slice from a DataFrame.\n",
      "Try using .loc[row_indexer,col_indexer] = value instead\n",
      "\n",
      "See the caveats in the documentation: http://pandas.pydata.org/pandas-docs/stable/indexing.html#indexing-view-versus-copy\n",
      "  \"\"\"Entry point for launching an IPython kernel.\n"
     ]
    }
   ],
   "source": [
    "Wkd['doy']=Wkd.index.dayofyear"
   ]
  },
  {
   "cell_type": "code",
   "execution_count": 59,
   "metadata": {
    "jupyter": {
     "source_hidden": true
    }
   },
   "outputs": [
    {
     "name": "stdout",
     "output_type": "stream",
     "text": [
      "number of day excluded due to holiday in weekdays: 6\n"
     ]
    }
   ],
   "source": [
    "print(\"number of day excluded due to holiday in weekdays:\",int(sum(Wkd.doy.isin(holi_inddate.dayofyear)/96)))"
   ]
  },
  {
   "cell_type": "code",
   "execution_count": 60,
   "metadata": {
    "jupyter": {
     "source_hidden": true
    }
   },
   "outputs": [],
   "source": [
    "Wkd=Wkd[~Wkd.doy.isin(holi_inddate.dayofyear)] #get rid of the holidays in weekdays"
   ]
  },
  {
   "cell_type": "code",
   "execution_count": 61,
   "metadata": {
    "jupyter": {
     "source_hidden": true
    }
   },
   "outputs": [],
   "source": [
    "# create unique day code\n",
    "yr = Wkd.year.values\n",
    "mon = Wkd.month.values\n",
    "dd = Wkd.day.values"
   ]
  },
  {
   "cell_type": "code",
   "execution_count": 62,
   "metadata": {
    "jupyter": {
     "source_hidden": true
    }
   },
   "outputs": [],
   "source": [
    "inp_unid = [str(yr[i])+str(mon[i])+str(dd[i]) for i in range(0,len(yr))]\n",
    "Wkd['unid']=inp_unid    # create an unique id for the day for easy filtering "
   ]
  },
  {
   "cell_type": "code",
   "execution_count": 63,
   "metadata": {
    "jupyter": {
     "source_hidden": true
    }
   },
   "outputs": [
    {
     "name": "stdout",
     "output_type": "stream",
     "text": [
      "total number of weekdays used: 101\n"
     ]
    }
   ],
   "source": [
    "totdys = len(set(Wkd.unid.values))\n",
    "print('total number of weekdays used:',totdys)"
   ]
  },
  {
   "cell_type": "code",
   "execution_count": 64,
   "metadata": {},
   "outputs": [],
   "source": [
    "# define the min bin group for two portions the day\n",
    "Morn = [x for x in range(0,48)]  #0AM-12PM\n",
    "#Midd = [x for x in range(44,65)]  **** Should do Midday peak??\n",
    "Aft = [x for x in range(49,96)]"
   ]
  },
  {
   "cell_type": "code",
   "execution_count": 76,
   "metadata": {},
   "outputs": [],
   "source": [
    "trimWkd=Wkd.drop(Wkd.index[[0,1,2,3,4]])"
   ]
  },
  {
   "cell_type": "code",
   "execution_count": 79,
   "metadata": {},
   "outputs": [],
   "source": [
    "# calculate AM PM average cnts per day\n",
    "avgM = pd.DataFrame(columns=['date','AM average car cnts'])\n",
    "avgA = pd.DataFrame(columns=['date','PM average car cnts'])\n",
    "\n",
    "AMavgct=[]\n",
    "PMavgct=[]\n",
    "AMdatet=[]\n",
    "PMdatet=[]\n",
    "for bin in range(0,200): # taking out each pktimes from different days\n",
    "    # start by sub-filtering half day ***### shift middle of day to 14:00 and end of day to 2:00\n",
    "    #print(bin)\n",
    "    Wksubdf = trimWkd.iloc[bin*48:(bin*48)+48][['totalct','min_bin']]\n",
    "    # find out first starting hour\n",
    "    stddt =Wksubdf.index[0]\n",
    "\n",
    "    # get to know which portion of day this sub is\n",
    "    if Wksubdf.min_bin[0]>47: por=1 #afternoon, coded morning[0], afternoon[1]\n",
    "    else: por=0\n",
    "        \n",
    "    tmp = list(Wksubdf.totalct.values)\n",
    "    indx = tmp.index(max(tmp))\n",
    "    if por==0:                                # the morning\n",
    "        AMavgct+=[sum(Wksubdf.totalct.values)/48]\n",
    "        AMdatet+=[Wksubdf.index[0]]\n",
    "    else:                                    # the afternoon\n",
    "        PMavgct+=[sum(Wksubdf.totalct.values)/48]\n",
    "        PMdatet+=[Wksubdf.index[0]]"
   ]
  },
  {
   "cell_type": "code",
   "execution_count": 83,
   "metadata": {},
   "outputs": [],
   "source": [
    "avgM['AM average car cnts']=AMavgct\n",
    "avgA['PM average car cnts']=PMavgct\n",
    "avgM['date']=AMdatet\n",
    "avgA['date']=PMdatet"
   ]
  },
  {
   "cell_type": "code",
   "execution_count": 84,
   "metadata": {},
   "outputs": [
    {
     "data": {
      "text/html": [
       "<div>\n",
       "<style scoped>\n",
       "    .dataframe tbody tr th:only-of-type {\n",
       "        vertical-align: middle;\n",
       "    }\n",
       "\n",
       "    .dataframe tbody tr th {\n",
       "        vertical-align: top;\n",
       "    }\n",
       "\n",
       "    .dataframe thead th {\n",
       "        text-align: right;\n",
       "    }\n",
       "</style>\n",
       "<table border=\"1\" class=\"dataframe\">\n",
       "  <thead>\n",
       "    <tr style=\"text-align: right;\">\n",
       "      <th></th>\n",
       "      <th>AM average car cnts</th>\n",
       "    </tr>\n",
       "  </thead>\n",
       "  <tbody>\n",
       "    <tr>\n",
       "      <th>count</th>\n",
       "      <td>100.000000</td>\n",
       "    </tr>\n",
       "    <tr>\n",
       "      <th>mean</th>\n",
       "      <td>96.860208</td>\n",
       "    </tr>\n",
       "    <tr>\n",
       "      <th>std</th>\n",
       "      <td>4.855239</td>\n",
       "    </tr>\n",
       "    <tr>\n",
       "      <th>min</th>\n",
       "      <td>72.916667</td>\n",
       "    </tr>\n",
       "    <tr>\n",
       "      <th>25%</th>\n",
       "      <td>94.921875</td>\n",
       "    </tr>\n",
       "    <tr>\n",
       "      <th>50%</th>\n",
       "      <td>98.197917</td>\n",
       "    </tr>\n",
       "    <tr>\n",
       "      <th>75%</th>\n",
       "      <td>99.739583</td>\n",
       "    </tr>\n",
       "    <tr>\n",
       "      <th>max</th>\n",
       "      <td>106.937500</td>\n",
       "    </tr>\n",
       "  </tbody>\n",
       "</table>\n",
       "</div>"
      ],
      "text/plain": [
       "       AM average car cnts\n",
       "count           100.000000\n",
       "mean             96.860208\n",
       "std               4.855239\n",
       "min              72.916667\n",
       "25%              94.921875\n",
       "50%              98.197917\n",
       "75%              99.739583\n",
       "max             106.937500"
      ]
     },
     "execution_count": 84,
     "metadata": {},
     "output_type": "execute_result"
    }
   ],
   "source": [
    "avgM.describe()"
   ]
  },
  {
   "cell_type": "code",
   "execution_count": 85,
   "metadata": {},
   "outputs": [
    {
     "data": {
      "text/html": [
       "<div>\n",
       "<style scoped>\n",
       "    .dataframe tbody tr th:only-of-type {\n",
       "        vertical-align: middle;\n",
       "    }\n",
       "\n",
       "    .dataframe tbody tr th {\n",
       "        vertical-align: top;\n",
       "    }\n",
       "\n",
       "    .dataframe thead th {\n",
       "        text-align: right;\n",
       "    }\n",
       "</style>\n",
       "<table border=\"1\" class=\"dataframe\">\n",
       "  <thead>\n",
       "    <tr style=\"text-align: right;\">\n",
       "      <th></th>\n",
       "      <th>PM average car cnts</th>\n",
       "    </tr>\n",
       "  </thead>\n",
       "  <tbody>\n",
       "    <tr>\n",
       "      <th>count</th>\n",
       "      <td>100.000000</td>\n",
       "    </tr>\n",
       "    <tr>\n",
       "      <th>mean</th>\n",
       "      <td>116.082708</td>\n",
       "    </tr>\n",
       "    <tr>\n",
       "      <th>std</th>\n",
       "      <td>5.824418</td>\n",
       "    </tr>\n",
       "    <tr>\n",
       "      <th>min</th>\n",
       "      <td>103.520833</td>\n",
       "    </tr>\n",
       "    <tr>\n",
       "      <th>25%</th>\n",
       "      <td>112.552083</td>\n",
       "    </tr>\n",
       "    <tr>\n",
       "      <th>50%</th>\n",
       "      <td>117.125000</td>\n",
       "    </tr>\n",
       "    <tr>\n",
       "      <th>75%</th>\n",
       "      <td>119.723958</td>\n",
       "    </tr>\n",
       "    <tr>\n",
       "      <th>max</th>\n",
       "      <td>129.770833</td>\n",
       "    </tr>\n",
       "  </tbody>\n",
       "</table>\n",
       "</div>"
      ],
      "text/plain": [
       "       PM average car cnts\n",
       "count           100.000000\n",
       "mean            116.082708\n",
       "std               5.824418\n",
       "min             103.520833\n",
       "25%             112.552083\n",
       "50%             117.125000\n",
       "75%             119.723958\n",
       "max             129.770833"
      ]
     },
     "execution_count": 85,
     "metadata": {},
     "output_type": "execute_result"
    }
   ],
   "source": [
    "avgA.describe()"
   ]
  },
  {
   "cell_type": "code",
   "execution_count": 90,
   "metadata": {
    "jupyter": {
     "source_hidden": true
    }
   },
   "outputs": [],
   "source": [
    "recM = pd.DataFrame(columns=['Peak min_bin','start bin','end bin','Peak time','start time','end time'])\n",
    "recA = pd.DataFrame(columns=['Peak min_bin','start bin','end bin','Peak time','start time','end time'])\n",
    "\n",
    "Mornpk=[]\n",
    "Aftpk=[]\n",
    "Mornpkt=[]\n",
    "Aftpkt=[]\n",
    "Mornst=[]\n",
    "Aftst=[]\n",
    "Mornstt=[]\n",
    "Aftstt=[]\n",
    "Morned=[]\n",
    "Afted=[]\n",
    "Mornedt=[]\n",
    "Aftedt=[]\n",
    "for bin in range(0,200): # taking out each pktimes from different days\n",
    "    # start by sub-filtering half day\n",
    "    Wksubdf = trimWkd.iloc[bin*48:(bin*48)+48][['totalct','min_bin']]\n",
    "    # find out first starting hour\n",
    "    stddt =Wksubdf.index[0]\n",
    "    if(stddt.minute != 0):std = pd.Timestamp(stddt.year,stddt.month,stddt.day,stddt.hour)\n",
    "    else: std = stddt\n",
    "    # get to know which portion of day this sub is\n",
    "    if Wksubdf.min_bin[0]>47: por=1 #afternoon, coded morning[0], afternoon[1]\n",
    "    else: por=0\n",
    "    \n",
    "    # start from subdf and get peak timestamps\n",
    "    tmp = list(Wksubdf.totalct.values)\n",
    "    indx = tmp.index(max(tmp))\n",
    "    if por==0:                                # the morning\n",
    "        Mornpkt += [Wksubdf.index[indx]]\n",
    "        Mornpk += [Wksubdf.min_bin[indx]]\n",
    "        cut60 = AMavgct[int(bin/2)]#max(tmp)*.4 # or use 40% of peak?\n",
    "        #print('AM',max(tmp),cut60)\n",
    "        # find front portion cut off\n",
    "        idtf=tmp[0:indx]>cut60\n",
    "        fid=Tools10.asclstT(idtf)\n",
    "        Mornstt += [Wksubdf.index[fid]]\n",
    "        Mornst += [Wksubdf.min_bin[fid]]\n",
    "        #print('AM start:',Wksubdf.totalct[fid-1])\n",
    "        # find back portion cut off\n",
    "        idtf=tmp[indx:len(tmp)]>cut60\n",
    "        fid=Tools10.desclstT(idtf)\n",
    "        Mornedt += [Wksubdf.index[indx+fid]]\n",
    "        Morned +=  [Wksubdf.min_bin[indx+fid]]\n",
    "        #print('AM end:',Wksubdf.totalct[indx+fid])\n",
    "        \n",
    "    else:                                    # the afternoon\n",
    "        Aftpkt+= [Wksubdf.index[indx]]\n",
    "        Aftpk += [Wksubdf.min_bin[indx]]\n",
    "        cut60 = PMavgct[int(bin/2)]*.8 #max(tmp)*.5\n",
    "        #print('PM',max(tmp),cut60)\n",
    "        # find front portion cut off\n",
    "        idtf=tmp[0:indx]>cut60\n",
    "        fid=Tools10.asclstT(idtf)\n",
    "        Aftstt += [Wksubdf.index[fid]]\n",
    "        Aftst += [Wksubdf.min_bin[fid]]\n",
    "        #print('PM start:',Wksubdf.totalct[fid])\n",
    "        # find back portion cut off\n",
    "        idtf=tmp[indx:len(tmp)]>cut60\n",
    "        fid=Tools10.desclstT(idtf)\n",
    "        Aftedt += [Wksubdf.index[indx+fid]]\n",
    "        Afted += [Wksubdf.min_bin[indx+fid]]\n",
    "        #print('PM end:',Wksubdf.totalct[indx+fid])"
   ]
  },
  {
   "cell_type": "code",
   "execution_count": 91,
   "metadata": {
    "jupyter": {
     "source_hidden": true
    }
   },
   "outputs": [],
   "source": [
    "# fill in the Morning records\n",
    "recM['Peak min_bin']=Mornpk\n",
    "recM['start bin']=Mornst\n",
    "recM['end bin']=Morned\n",
    "recM['Peak time']=Mornpkt\n",
    "recM['start time']=Mornstt\n",
    "recM['end time']=Mornedt"
   ]
  },
  {
   "cell_type": "code",
   "execution_count": 92,
   "metadata": {
    "jupyter": {
     "source_hidden": true
    }
   },
   "outputs": [],
   "source": [
    "recA['Peak min_bin']=Aftpk\n",
    "recA['start bin']=Aftst\n",
    "recA['end bin']=Afted\n",
    "recA['Peak time']=Aftpkt\n",
    "recA['start time']=Aftstt\n",
    "recA['end time']=Aftedt"
   ]
  },
  {
   "cell_type": "code",
   "execution_count": 99,
   "metadata": {},
   "outputs": [
    {
     "data": {
      "text/html": [
       "<div>\n",
       "<style scoped>\n",
       "    .dataframe tbody tr th:only-of-type {\n",
       "        vertical-align: middle;\n",
       "    }\n",
       "\n",
       "    .dataframe tbody tr th {\n",
       "        vertical-align: top;\n",
       "    }\n",
       "\n",
       "    .dataframe thead th {\n",
       "        text-align: right;\n",
       "    }\n",
       "</style>\n",
       "<table border=\"1\" class=\"dataframe\">\n",
       "  <thead>\n",
       "    <tr style=\"text-align: right;\">\n",
       "      <th></th>\n",
       "      <th>Peak min_bin</th>\n",
       "      <th>start bin</th>\n",
       "      <th>end bin</th>\n",
       "      <th>Peak time</th>\n",
       "      <th>start time</th>\n",
       "      <th>end time</th>\n",
       "    </tr>\n",
       "  </thead>\n",
       "  <tbody>\n",
       "    <tr>\n",
       "      <th>0</th>\n",
       "      <td>78</td>\n",
       "      <td>70</td>\n",
       "      <td>91</td>\n",
       "      <td>2018-10-17 19:30:00</td>\n",
       "      <td>2018-10-17 17:30:00</td>\n",
       "      <td>2018-10-17 22:45:00</td>\n",
       "    </tr>\n",
       "    <tr>\n",
       "      <th>1</th>\n",
       "      <td>79</td>\n",
       "      <td>70</td>\n",
       "      <td>90</td>\n",
       "      <td>2018-10-18 19:45:00</td>\n",
       "      <td>2018-10-18 17:30:00</td>\n",
       "      <td>2018-10-18 22:30:00</td>\n",
       "    </tr>\n",
       "    <tr>\n",
       "      <th>2</th>\n",
       "      <td>83</td>\n",
       "      <td>70</td>\n",
       "      <td>94</td>\n",
       "      <td>2018-10-19 20:45:00</td>\n",
       "      <td>2018-10-19 17:30:00</td>\n",
       "      <td>2018-10-19 23:30:00</td>\n",
       "    </tr>\n",
       "    <tr>\n",
       "      <th>3</th>\n",
       "      <td>78</td>\n",
       "      <td>48</td>\n",
       "      <td>87</td>\n",
       "      <td>2018-10-22 19:30:00</td>\n",
       "      <td>2018-10-22 12:00:00</td>\n",
       "      <td>2018-10-22 21:45:00</td>\n",
       "    </tr>\n",
       "    <tr>\n",
       "      <th>4</th>\n",
       "      <td>79</td>\n",
       "      <td>68</td>\n",
       "      <td>88</td>\n",
       "      <td>2018-10-23 19:45:00</td>\n",
       "      <td>2018-10-23 17:00:00</td>\n",
       "      <td>2018-10-23 22:00:00</td>\n",
       "    </tr>\n",
       "  </tbody>\n",
       "</table>\n",
       "</div>"
      ],
      "text/plain": [
       "   Peak min_bin  start bin  end bin           Peak time          start time  \\\n",
       "0            78         70       91 2018-10-17 19:30:00 2018-10-17 17:30:00   \n",
       "1            79         70       90 2018-10-18 19:45:00 2018-10-18 17:30:00   \n",
       "2            83         70       94 2018-10-19 20:45:00 2018-10-19 17:30:00   \n",
       "3            78         48       87 2018-10-22 19:30:00 2018-10-22 12:00:00   \n",
       "4            79         68       88 2018-10-23 19:45:00 2018-10-23 17:00:00   \n",
       "\n",
       "             end time  \n",
       "0 2018-10-17 22:45:00  \n",
       "1 2018-10-18 22:30:00  \n",
       "2 2018-10-19 23:30:00  \n",
       "3 2018-10-22 21:45:00  \n",
       "4 2018-10-23 22:00:00  "
      ]
     },
     "execution_count": 99,
     "metadata": {},
     "output_type": "execute_result"
    }
   ],
   "source": [
    "recA.head()"
   ]
  },
  {
   "cell_type": "code",
   "execution_count": 100,
   "metadata": {},
   "outputs": [
    {
     "data": {
      "text/html": [
       "<div>\n",
       "<style scoped>\n",
       "    .dataframe tbody tr th:only-of-type {\n",
       "        vertical-align: middle;\n",
       "    }\n",
       "\n",
       "    .dataframe tbody tr th {\n",
       "        vertical-align: top;\n",
       "    }\n",
       "\n",
       "    .dataframe thead th {\n",
       "        text-align: right;\n",
       "    }\n",
       "</style>\n",
       "<table border=\"1\" class=\"dataframe\">\n",
       "  <thead>\n",
       "    <tr style=\"text-align: right;\">\n",
       "      <th></th>\n",
       "      <th>Peak min_bin</th>\n",
       "      <th>start bin</th>\n",
       "      <th>end bin</th>\n",
       "      <th>Peak time</th>\n",
       "      <th>start time</th>\n",
       "      <th>end time</th>\n",
       "    </tr>\n",
       "  </thead>\n",
       "  <tbody>\n",
       "    <tr>\n",
       "      <th>0</th>\n",
       "      <td>28</td>\n",
       "      <td>22</td>\n",
       "      <td>47</td>\n",
       "      <td>2018-10-18 07:00:00</td>\n",
       "      <td>2018-10-18 05:30:00</td>\n",
       "      <td>2018-10-18 11:45:00</td>\n",
       "    </tr>\n",
       "    <tr>\n",
       "      <th>1</th>\n",
       "      <td>33</td>\n",
       "      <td>22</td>\n",
       "      <td>45</td>\n",
       "      <td>2018-10-19 08:15:00</td>\n",
       "      <td>2018-10-19 05:30:00</td>\n",
       "      <td>2018-10-19 11:15:00</td>\n",
       "    </tr>\n",
       "    <tr>\n",
       "      <th>2</th>\n",
       "      <td>26</td>\n",
       "      <td>22</td>\n",
       "      <td>47</td>\n",
       "      <td>2018-10-22 06:30:00</td>\n",
       "      <td>2018-10-22 05:30:00</td>\n",
       "      <td>2018-10-22 11:45:00</td>\n",
       "    </tr>\n",
       "    <tr>\n",
       "      <th>3</th>\n",
       "      <td>31</td>\n",
       "      <td>21</td>\n",
       "      <td>44</td>\n",
       "      <td>2018-10-23 07:45:00</td>\n",
       "      <td>2018-10-23 05:15:00</td>\n",
       "      <td>2018-10-23 11:00:00</td>\n",
       "    </tr>\n",
       "    <tr>\n",
       "      <th>4</th>\n",
       "      <td>33</td>\n",
       "      <td>21</td>\n",
       "      <td>44</td>\n",
       "      <td>2018-10-24 08:15:00</td>\n",
       "      <td>2018-10-24 05:15:00</td>\n",
       "      <td>2018-10-24 11:00:00</td>\n",
       "    </tr>\n",
       "  </tbody>\n",
       "</table>\n",
       "</div>"
      ],
      "text/plain": [
       "   Peak min_bin  start bin  end bin           Peak time          start time  \\\n",
       "0            28         22       47 2018-10-18 07:00:00 2018-10-18 05:30:00   \n",
       "1            33         22       45 2018-10-19 08:15:00 2018-10-19 05:30:00   \n",
       "2            26         22       47 2018-10-22 06:30:00 2018-10-22 05:30:00   \n",
       "3            31         21       44 2018-10-23 07:45:00 2018-10-23 05:15:00   \n",
       "4            33         21       44 2018-10-24 08:15:00 2018-10-24 05:15:00   \n",
       "\n",
       "             end time  \n",
       "0 2018-10-18 11:45:00  \n",
       "1 2018-10-19 11:15:00  \n",
       "2 2018-10-22 11:45:00  \n",
       "3 2018-10-23 11:00:00  \n",
       "4 2018-10-24 11:00:00  "
      ]
     },
     "execution_count": 100,
     "metadata": {},
     "output_type": "execute_result"
    }
   ],
   "source": [
    "recM.head()"
   ]
  },
  {
   "cell_type": "code",
   "execution_count": null,
   "metadata": {},
   "outputs": [],
   "source": [
    "## replotting of the same figure"
   ]
  },
  {
   "cell_type": "code",
   "execution_count": 97,
   "metadata": {
    "jupyter": {
     "source_hidden": true
    }
   },
   "outputs": [],
   "source": [
    "# plot total activity per 15 mins on a full figure\n",
    "    # setup figure\n",
    "output_file('Wacker_car_cnt_actwClust8.html')\n",
    "    # setup size \n",
    "p = figure(title='Wacker detectors count',plot_width=1400, plot_height=500)\n",
    "    \n",
    "    # setup tickers\n",
    "mjtick, mntick= Tools10.gen_dtticker(newdf, '1H', '30T')\n",
    "p.vbar(x=newdf.index, width=0.5, bottom=0, top=newdf['totalct'], color=\"#1d49cf\")\n",
    "\n",
    "## create line segment info for clusters\n",
    "std,etd=prep_clust(newdf,0)\n",
    "y=[200 for x in range(len(std))]\n",
    "p.segment(x0=std, y0=y, x1=etd, y1=y, line_color=\"#e8810c\", line_width=7)\n",
    "std,etd=prep_clust(newdf,1)\n",
    "y=[200 for x in range(len(std))]\n",
    "p.segment(x0=std, y0=y, x1=etd, y1=y, line_color=\"#9c09eb\", line_width=7)\n",
    "std,etd=prep_clust(newdf,2)\n",
    "y=[200 for x in range(len(std))]\n",
    "p.segment(x0=std, y0=y, x1=etd, y1=y, line_color=\"#3309eb\", line_width=7)\n",
    "std,etd=prep_clust(newdf,3)\n",
    "y=[200 for x in range(len(std))]\n",
    "p.segment(x0=std, y0=y, x1=etd, y1=y, line_color=\"#13c70a\", line_width=7)\n",
    "std,etd=prep_clust(newdf,4)\n",
    "y=[200 for x in range(len(std))]\n",
    "p.segment(x0=std, y0=y, x1=etd, y1=y, line_color=\"#c598ed\", line_width=7)\n",
    "std,etd=prep_clust(newdf,5)\n",
    "y=[200 for x in range(len(std))]\n",
    "p.segment(x0=std, y0=y, x1=etd, y1=y, line_color=\"#e63715\", line_width=7)\n",
    "std,etd=prep_clust(newdf,6)\n",
    "y=[200 for x in range(len(std))]\n",
    "p.segment(x0=std, y0=y, x1=etd, y1=y, line_color=\"#ed8a77\", line_width=7)\n",
    "std,etd=prep_clust(newdf,7)\n",
    "y=[200 for x in range(len(std))]\n",
    "p.segment(x0=std, y0=y, x1=etd, y1=y, line_color=\"#a8d472\", line_width=7)\n",
    "\n",
    "### plotting the second line for 4 clusters\n",
    "std,etd=prep_clust(dummy,0)\n",
    "y=[210 for x in range(len(std))]\n",
    "p.segment(x0=std, y0=y, x1=etd, y1=y, line_color=\"#edd924\", line_width=7)\n",
    "std,etd=prep_clust(dummy,1)\n",
    "y=[210 for x in range(len(std))]\n",
    "p.segment(x0=std, y0=y, x1=etd, y1=y, line_color=\"#e8812c\", line_width=7)\n",
    "std,etd=prep_clust(dummy,2)\n",
    "y=[210 for x in range(len(std))]\n",
    "p.segment(x0=std, y0=y, x1=etd, y1=y, line_color=\"#e64a27\", line_width=7)\n",
    "std,etd=prep_clust(dummy,3)\n",
    "y=[210 for x in range(len(std))]\n",
    "p.segment(x0=std, y0=y, x1=etd, y1=y, line_color=\"#306cdb\", line_width=7)\n",
    "\n",
    "#### plotting the peaktimes start and end\n",
    "# plot peak times\n",
    "y1=[230 for x in range(len(recM))]\n",
    "y0=[0 for x in range(len(recM))]\n",
    "p.segment(x0=recM['Peak time'], y0=y0, x1=recM['Peak time'], y1=y1, line_color=\"#eb4034\", line_width=3,alpha=.3)\n",
    "y1=[230 for x in range(len(recA))]\n",
    "y0=[0 for x in range(len(recA))]\n",
    "p.segment(x0=recA['Peak time'], y0=y0, x1=recA['Peak time'], y1=y1, line_color=\"#5327d9\", line_width=3,alpha=.3)\n",
    "\n",
    "## plotting the start and end\n",
    "p.segment(x0=recA['start time'], y0=y0, x1=recA['start time'], y1=y1, line_color=\"#0e9941\", line_width=3,alpha=.3)\n",
    "p.segment(x0=recM['start time'], y0=y0, x1=recM['start time'], y1=y1, line_color=\"#0e9941\", line_width=3,alpha=.3)\n",
    "p.segment(x0=recA['end time'], y0=y0, x1=recA['end time'], y1=y1, line_color=\"#0e9941\", line_width=3,alpha=.3)\n",
    "p.segment(x0=recM['end time'], y0=y0, x1=recM['end time'], y1=y1, line_color=\"#0e9941\", line_width=3,alpha=.3)\n",
    "\n",
    "\n",
    "\n",
    "p.xgrid.ticker = FixedTicker(ticks=mntick) # set minor ticker as more granularity\n",
    "p.xaxis.ticker = FixedTicker(ticks=mjtick) #set major ticker to axis label\n",
    "#p.xaxis.ticker.desired_num_ticks = 100\n",
    "p.xaxis.major_label_orientation = \"vertical\"  # rotate label orientation\n",
    "p.xaxis.formatter=DatetimeTickFormatter(days=[\"%m/%d %H:%M\"],months=[\"%m/%d %H:%M\"],hours=[\"%m/%d %H:%M\"])#,minutes=[\"%m/%d %H:%M\"])\n",
    "    # set the grid interval filling\n",
    "p.xgrid.band_fill_color = \"grey\"\n",
    "p.xgrid.band_fill_alpha = 0.05\n",
    "show(p)"
   ]
  },
  {
   "cell_type": "code",
   "execution_count": 116,
   "metadata": {},
   "outputs": [],
   "source": [
    "recM['AMstart str']=recM['start time'].dt.strftime('%H:%M')\n",
    "recM['AMend str']=recM['end time'].dt.strftime('%H:%M')"
   ]
  },
  {
   "cell_type": "code",
   "execution_count": 119,
   "metadata": {},
   "outputs": [
    {
     "name": "stdout",
     "output_type": "stream",
     "text": [
      "time bin : the % for start time\n",
      "05:15    53.0\n",
      "05:30    30.0\n",
      "05:00     9.0\n",
      "05:45     3.0\n",
      "04:45     2.0\n",
      "06:00     2.0\n",
      "06:15     1.0\n",
      "Name: AMstart str, dtype: float64\n",
      "time bin : the % for end time\n",
      "11:45    59.0\n",
      "11:30    12.0\n",
      "11:15    11.0\n",
      "11:00    10.0\n",
      "10:30     3.0\n",
      "10:45     3.0\n",
      "10:15     1.0\n",
      "09:30     1.0\n",
      "Name: AMend str, dtype: float64\n"
     ]
    }
   ],
   "source": [
    "print('time bin : the % for start time')\n",
    "print(recM['AMstart str'].value_counts()/len(recM)*100)\n",
    "print('time bin : the % for end time')\n",
    "print(recM['AMend str'].value_counts()/len(recM)*100)"
   ]
  },
  {
   "cell_type": "code",
   "execution_count": 122,
   "metadata": {},
   "outputs": [],
   "source": [
    "recA['PMstart str']=recA['start time'].dt.strftime('%H:%M')\n",
    "recA['PMend str']=recA['end time'].dt.strftime('%H:%M')"
   ]
  },
  {
   "cell_type": "code",
   "execution_count": 123,
   "metadata": {},
   "outputs": [
    {
     "name": "stdout",
     "output_type": "stream",
     "text": [
      "time bin : the % for start time\n",
      "12:00    21.0\n",
      "17:45    16.0\n",
      "17:30    16.0\n",
      "17:15    12.0\n",
      "17:00     6.0\n",
      "18:00     6.0\n",
      "16:00     5.0\n",
      "16:45     3.0\n",
      "18:15     2.0\n",
      "13:00     2.0\n",
      "16:30     2.0\n",
      "18:30     1.0\n",
      "16:15     1.0\n",
      "23:00     1.0\n",
      "14:00     1.0\n",
      "12:30     1.0\n",
      "15:45     1.0\n",
      "13:45     1.0\n",
      "15:00     1.0\n",
      "15:30     1.0\n",
      "Name: PMstart str, dtype: float64\n",
      "time bin : the % for end time\n",
      "22:15    20.0\n",
      "22:30    19.0\n",
      "22:00    13.0\n",
      "23:00     8.0\n",
      "21:30     7.0\n",
      "23:15     6.0\n",
      "22:45     6.0\n",
      "21:45     6.0\n",
      "21:00     4.0\n",
      "23:45     4.0\n",
      "23:30     4.0\n",
      "21:15     1.0\n",
      "20:00     1.0\n",
      "20:30     1.0\n",
      "Name: PMend str, dtype: float64\n"
     ]
    }
   ],
   "source": [
    "print('time bin : the % for start time')\n",
    "print(recA['PMstart str'].value_counts()/len(recA)*100)\n",
    "print('time bin : the % for end time')\n",
    "print(recA['PMend str'].value_counts()/len(recA)*100)"
   ]
  },
  {
   "cell_type": "code",
   "execution_count": 143,
   "metadata": {},
   "outputs": [],
   "source": [
    "import datetime\n",
    "stdM=pd.to_datetime(recM['start time'].dt.date)+pd.to_timedelta('5:15:00')\n",
    "etdM=pd.to_datetime(recM['end time'].dt.date)+pd.to_timedelta('11:45:00')"
   ]
  },
  {
   "cell_type": "code",
   "execution_count": 147,
   "metadata": {},
   "outputs": [],
   "source": [
    "stdA=pd.to_datetime(recA['start time'].dt.date)+pd.to_timedelta('17:30:00')\n",
    "etdA=pd.to_datetime(recA['end time'].dt.date)+pd.to_timedelta('22:15:00')"
   ]
  },
  {
   "cell_type": "code",
   "execution_count": 148,
   "metadata": {},
   "outputs": [],
   "source": [
    "# plot total activity per 15 mins on a full figure\n",
    "    # setup figure\n",
    "output_file('Wacker_car_cnt_actwClust8_wstat.html')\n",
    "    # setup size \n",
    "p = figure(title='Wacker detectors count',plot_width=1400, plot_height=500)\n",
    "    \n",
    "    # setup tickers\n",
    "mjtick, mntick= Tools10.gen_dtticker(newdf, '1H', '30T')\n",
    "p.vbar(x=newdf.index, width=0.5, bottom=0, top=newdf['totalct'], color=\"#1d49cf\")\n",
    "\n",
    "## create line segment info for 8 clusters\n",
    "std,etd=prep_clust(newdf,0)\n",
    "y=[200 for x in range(len(std))]\n",
    "p.segment(x0=std, y0=y, x1=etd, y1=y, line_color=\"#e8810c\", line_width=7)\n",
    "std,etd=prep_clust(newdf,1)\n",
    "y=[200 for x in range(len(std))]\n",
    "p.segment(x0=std, y0=y, x1=etd, y1=y, line_color=\"#9c09eb\", line_width=7)\n",
    "std,etd=prep_clust(newdf,2)\n",
    "y=[200 for x in range(len(std))]\n",
    "p.segment(x0=std, y0=y, x1=etd, y1=y, line_color=\"#3309eb\", line_width=7)\n",
    "std,etd=prep_clust(newdf,3)\n",
    "y=[200 for x in range(len(std))]\n",
    "p.segment(x0=std, y0=y, x1=etd, y1=y, line_color=\"#13c70a\", line_width=7)\n",
    "std,etd=prep_clust(newdf,4)\n",
    "y=[200 for x in range(len(std))]\n",
    "p.segment(x0=std, y0=y, x1=etd, y1=y, line_color=\"#c598ed\", line_width=7)\n",
    "std,etd=prep_clust(newdf,5)\n",
    "y=[200 for x in range(len(std))]\n",
    "p.segment(x0=std, y0=y, x1=etd, y1=y, line_color=\"#e63715\", line_width=7)\n",
    "std,etd=prep_clust(newdf,6)\n",
    "y=[200 for x in range(len(std))]\n",
    "p.segment(x0=std, y0=y, x1=etd, y1=y, line_color=\"#ed8a77\", line_width=7)\n",
    "std,etd=prep_clust(newdf,7)\n",
    "y=[200 for x in range(len(std))]\n",
    "p.segment(x0=std, y0=y, x1=etd, y1=y, line_color=\"#a8d472\", line_width=7)\n",
    "\n",
    "### plotting the second line for 4 clusters\n",
    "std,etd=prep_clust(dummy,0)\n",
    "y=[210 for x in range(len(std))]\n",
    "p.segment(x0=std, y0=y, x1=etd, y1=y, line_color=\"#edd924\", line_width=7)\n",
    "std,etd=prep_clust(dummy,1)\n",
    "y=[210 for x in range(len(std))]\n",
    "p.segment(x0=std, y0=y, x1=etd, y1=y, line_color=\"#e8812c\", line_width=7)\n",
    "std,etd=prep_clust(dummy,2)\n",
    "y=[210 for x in range(len(std))]\n",
    "p.segment(x0=std, y0=y, x1=etd, y1=y, line_color=\"#e64a27\", line_width=7)\n",
    "std,etd=prep_clust(dummy,3)\n",
    "y=[210 for x in range(len(std))]\n",
    "p.segment(x0=std, y0=y, x1=etd, y1=y, line_color=\"#306cdb\", line_width=7)\n",
    "\n",
    "#### plotting the peaktimes start and end\n",
    "# plot peak times\n",
    "y1=[230 for x in range(len(recM))]\n",
    "y0=[0 for x in range(len(recM))]\n",
    "p.segment(x0=recM['Peak time'], y0=y0, x1=recM['Peak time'], y1=y1, line_color=\"#eb4034\", line_width=3,alpha=.3)\n",
    "y1=[230 for x in range(len(recA))]\n",
    "y0=[0 for x in range(len(recA))]\n",
    "p.segment(x0=recA['Peak time'], y0=y0, x1=recA['Peak time'], y1=y1, line_color=\"#5327d9\", line_width=3,alpha=.3)\n",
    "\n",
    "## plotting the start and end\n",
    "# create daily start time and end time\n",
    "\n",
    "p.segment(x0=stdM, y0=y0, x1=stdM, y1=y1, line_color=\"#0e9941\", line_width=3,alpha=.3)\n",
    "p.segment(x0=etdM, y0=y0, x1=etdM, y1=y1, line_color=\"#0e9941\", line_width=3,alpha=.3)\n",
    "p.segment(x0=stdA, y0=y0, x1=stdA, y1=y1, line_color=\"#0e9941\", line_width=3,alpha=.3)\n",
    "p.segment(x0=etdA, y0=y0, x1=etdA, y1=y1, line_color=\"#0e9941\", line_width=3,alpha=.3)\n",
    "\n",
    "\n",
    "p.xgrid.ticker = FixedTicker(ticks=mntick) # set minor ticker as more granularity\n",
    "p.xaxis.ticker = FixedTicker(ticks=mjtick) #set major ticker to axis label\n",
    "#p.xaxis.ticker.desired_num_ticks = 100\n",
    "p.xaxis.major_label_orientation = \"vertical\"  # rotate label orientation\n",
    "p.xaxis.formatter=DatetimeTickFormatter(days=[\"%m/%d %H:%M\"],months=[\"%m/%d %H:%M\"],hours=[\"%m/%d %H:%M\"])#,minutes=[\"%m/%d %H:%M\"])\n",
    "    # set the grid interval filling\n",
    "p.xgrid.band_fill_color = \"grey\"\n",
    "p.xgrid.band_fill_alpha = 0.05\n",
    "show(p)"
   ]
  },
  {
   "cell_type": "code",
   "execution_count": 98,
   "metadata": {},
   "outputs": [
    {
     "data": {
      "text/plain": [
       "'C:\\\\Users\\\\z0043H7B\\\\Tien\\\\Data\\\\dubuque\\\\Dubuque_080819\\\\Wacker'"
      ]
     },
     "execution_count": 98,
     "metadata": {},
     "output_type": "execute_result"
    }
   ],
   "source": [
    "os.getcwd()"
   ]
  },
  {
   "cell_type": "code",
   "execution_count": null,
   "metadata": {},
   "outputs": [],
   "source": []
  }
 ],
 "metadata": {
  "kernelspec": {
   "display_name": "Python 3",
   "language": "python",
   "name": "python3"
  },
  "language_info": {
   "codemirror_mode": {
    "name": "ipython",
    "version": 3
   },
   "file_extension": ".py",
   "mimetype": "text/x-python",
   "name": "python",
   "nbconvert_exporter": "python",
   "pygments_lexer": "ipython3",
   "version": "3.7.3"
  }
 },
 "nbformat": 4,
 "nbformat_minor": 4
}
